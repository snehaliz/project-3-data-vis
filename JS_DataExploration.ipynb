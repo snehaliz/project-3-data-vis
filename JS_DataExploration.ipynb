{
 "cells": [
  {
   "cell_type": "markdown",
   "id": "8d18198d-a078-46ce-9087-6d25a2cd6297",
   "metadata": {},
   "source": [
    "### Data Exploration - Joyce \n",
    "\n",
    "Included in this .ipynb file are data exploration steps, conducted on the Costco Kaggle dataset.\n",
    "\n",
    "**Question for our group to consider:** Do we keep or remove `Unnamed: 0`? Code to drop `Unnamed:0` is commented out below. "
   ]
  },
  {
   "cell_type": "code",
   "execution_count": 1,
   "id": "029b0c60-3aab-4371-9951-9826ca186414",
   "metadata": {},
   "outputs": [],
   "source": [
    "import pandas as pd\n",
    "import numpy as np\n",
    "\n",
    "dataset = pd.read_csv('/Users/JoyceShiah/Downloads/costco_data (1).csv')"
   ]
  },
  {
   "cell_type": "markdown",
   "id": "efc00e20-8126-4db9-b340-b6bc85316ff0",
   "metadata": {},
   "source": [
    "## Step 1: Basic dataset exploration"
   ]
  },
  {
   "cell_type": "code",
   "execution_count": 4,
   "id": "e4f96e14-1563-4142-82d5-1921ef3b9f32",
   "metadata": {},
   "outputs": [
    {
     "data": {
      "text/html": [
       "<div>\n",
       "<style scoped>\n",
       "    .dataframe tbody tr th:only-of-type {\n",
       "        vertical-align: middle;\n",
       "    }\n",
       "\n",
       "    .dataframe tbody tr th {\n",
       "        vertical-align: top;\n",
       "    }\n",
       "\n",
       "    .dataframe thead th {\n",
       "        text-align: right;\n",
       "    }\n",
       "</style>\n",
       "<table border=\"1\" class=\"dataframe\">\n",
       "  <thead>\n",
       "    <tr style=\"text-align: right;\">\n",
       "      <th></th>\n",
       "      <th>Unnamed: 0</th>\n",
       "      <th>city</th>\n",
       "      <th>state</th>\n",
       "      <th>country</th>\n",
       "      <th>latitude</th>\n",
       "      <th>longitude</th>\n",
       "      <th>locationName</th>\n",
       "      <th>isBusinessWarehouse</th>\n",
       "      <th>Year</th>\n",
       "      <th>Services</th>\n",
       "    </tr>\n",
       "  </thead>\n",
       "  <tbody>\n",
       "    <tr>\n",
       "      <th>0</th>\n",
       "      <td>0</td>\n",
       "      <td>SEATTLE</td>\n",
       "      <td>WA</td>\n",
       "      <td>US</td>\n",
       "      <td>47.565</td>\n",
       "      <td>-122.329</td>\n",
       "      <td>Seattle</td>\n",
       "      <td>False</td>\n",
       "      <td>1983</td>\n",
       "      <td>Gas, Tires, Food, Hearing, Pharmacy, Optical, ...</td>\n",
       "    </tr>\n",
       "    <tr>\n",
       "      <th>1</th>\n",
       "      <td>1</td>\n",
       "      <td>PORTLAND</td>\n",
       "      <td>OR</td>\n",
       "      <td>US</td>\n",
       "      <td>45.556</td>\n",
       "      <td>-122.521</td>\n",
       "      <td>Portland</td>\n",
       "      <td>False</td>\n",
       "      <td>1983</td>\n",
       "      <td>Gas, Tires, Food, Hearing, Pharmacy, Optical, ...</td>\n",
       "    </tr>\n",
       "    <tr>\n",
       "      <th>2</th>\n",
       "      <td>2</td>\n",
       "      <td>TUKWILA</td>\n",
       "      <td>WA</td>\n",
       "      <td>US</td>\n",
       "      <td>47.445</td>\n",
       "      <td>-122.251</td>\n",
       "      <td>Tukwila</td>\n",
       "      <td>False</td>\n",
       "      <td>1984</td>\n",
       "      <td>Gas, Tires, Food, Hearing, Pharmacy, Optical, ...</td>\n",
       "    </tr>\n",
       "    <tr>\n",
       "      <th>3</th>\n",
       "      <td>3</td>\n",
       "      <td>KIRKLAND</td>\n",
       "      <td>WA</td>\n",
       "      <td>US</td>\n",
       "      <td>47.681</td>\n",
       "      <td>-122.183</td>\n",
       "      <td>Kirkland</td>\n",
       "      <td>False</td>\n",
       "      <td>1985</td>\n",
       "      <td>Gas, Tires, Food, Hearing, Pharmacy, Optical, ...</td>\n",
       "    </tr>\n",
       "    <tr>\n",
       "      <th>4</th>\n",
       "      <td>4</td>\n",
       "      <td>ALOHA</td>\n",
       "      <td>OR</td>\n",
       "      <td>US</td>\n",
       "      <td>45.508</td>\n",
       "      <td>-122.841</td>\n",
       "      <td>Aloha</td>\n",
       "      <td>False</td>\n",
       "      <td>1985</td>\n",
       "      <td>Gas, Tires, Food, Hearing, Pharmacy, Optical, ...</td>\n",
       "    </tr>\n",
       "  </tbody>\n",
       "</table>\n",
       "</div>"
      ],
      "text/plain": [
       "   Unnamed: 0      city state country  latitude  longitude locationName  \\\n",
       "0           0   SEATTLE    WA      US    47.565   -122.329      Seattle   \n",
       "1           1  PORTLAND    OR      US    45.556   -122.521     Portland   \n",
       "2           2   TUKWILA    WA      US    47.445   -122.251      Tukwila   \n",
       "3           3  KIRKLAND    WA      US    47.681   -122.183     Kirkland   \n",
       "4           4     ALOHA    OR      US    45.508   -122.841        Aloha   \n",
       "\n",
       "   isBusinessWarehouse  Year  \\\n",
       "0                False  1983   \n",
       "1                False  1983   \n",
       "2                False  1984   \n",
       "3                False  1985   \n",
       "4                False  1985   \n",
       "\n",
       "                                            Services  \n",
       "0  Gas, Tires, Food, Hearing, Pharmacy, Optical, ...  \n",
       "1  Gas, Tires, Food, Hearing, Pharmacy, Optical, ...  \n",
       "2  Gas, Tires, Food, Hearing, Pharmacy, Optical, ...  \n",
       "3  Gas, Tires, Food, Hearing, Pharmacy, Optical, ...  \n",
       "4  Gas, Tires, Food, Hearing, Pharmacy, Optical, ...  "
      ]
     },
     "execution_count": 4,
     "metadata": {},
     "output_type": "execute_result"
    }
   ],
   "source": [
    "len(dataset)\n",
    "dataset.head()"
   ]
  },
  {
   "cell_type": "code",
   "execution_count": 8,
   "id": "33f7a3eb-803b-4fcc-aecc-10e017a26ce6",
   "metadata": {
    "scrolled": true
   },
   "outputs": [
    {
     "data": {
      "text/plain": [
       "Index(['Unnamed: 0', 'city', 'state', 'country', 'latitude', 'longitude',\n",
       "       'locationName', 'isBusinessWarehouse', 'Year', 'Services'],\n",
       "      dtype='object')"
      ]
     },
     "execution_count": 8,
     "metadata": {},
     "output_type": "execute_result"
    }
   ],
   "source": [
    "dataset.columns"
   ]
  },
  {
   "cell_type": "code",
   "execution_count": 9,
   "id": "7b708325-2752-47e5-ac95-063cca5c76d2",
   "metadata": {},
   "outputs": [
    {
     "data": {
      "text/html": [
       "<div>\n",
       "<style scoped>\n",
       "    .dataframe tbody tr th:only-of-type {\n",
       "        vertical-align: middle;\n",
       "    }\n",
       "\n",
       "    .dataframe tbody tr th {\n",
       "        vertical-align: top;\n",
       "    }\n",
       "\n",
       "    .dataframe thead th {\n",
       "        text-align: right;\n",
       "    }\n",
       "</style>\n",
       "<table border=\"1\" class=\"dataframe\">\n",
       "  <thead>\n",
       "    <tr style=\"text-align: right;\">\n",
       "      <th></th>\n",
       "      <th>Unnamed: 0</th>\n",
       "      <th>city</th>\n",
       "      <th>state</th>\n",
       "      <th>country</th>\n",
       "      <th>latitude</th>\n",
       "      <th>longitude</th>\n",
       "      <th>locationName</th>\n",
       "      <th>isBusinessWarehouse</th>\n",
       "      <th>Year</th>\n",
       "      <th>Services</th>\n",
       "    </tr>\n",
       "  </thead>\n",
       "  <tbody>\n",
       "    <tr>\n",
       "      <th>0</th>\n",
       "      <td>0</td>\n",
       "      <td>SEATTLE</td>\n",
       "      <td>WA</td>\n",
       "      <td>US</td>\n",
       "      <td>47.565</td>\n",
       "      <td>-122.329</td>\n",
       "      <td>Seattle</td>\n",
       "      <td>False</td>\n",
       "      <td>1983</td>\n",
       "      <td>Gas, Tires, Food, Hearing, Pharmacy, Optical, ...</td>\n",
       "    </tr>\n",
       "  </tbody>\n",
       "</table>\n",
       "</div>"
      ],
      "text/plain": [
       "   Unnamed: 0     city state country  latitude  longitude locationName  \\\n",
       "0           0  SEATTLE    WA      US    47.565   -122.329      Seattle   \n",
       "\n",
       "   isBusinessWarehouse  Year  \\\n",
       "0                False  1983   \n",
       "\n",
       "                                            Services  \n",
       "0  Gas, Tires, Food, Hearing, Pharmacy, Optical, ...  "
      ]
     },
     "execution_count": 9,
     "metadata": {},
     "output_type": "execute_result"
    }
   ],
   "source": [
    "dataset.head(1)"
   ]
  },
  {
   "cell_type": "code",
   "execution_count": 10,
   "id": "3644eb65-a388-40a9-9a48-90aa4153fd3b",
   "metadata": {},
   "outputs": [
    {
     "name": "stdout",
     "output_type": "stream",
     "text": [
      "<class 'pandas.core.frame.DataFrame'>\n",
      "RangeIndex: 543 entries, 0 to 542\n",
      "Data columns (total 10 columns):\n",
      " #   Column               Non-Null Count  Dtype  \n",
      "---  ------               --------------  -----  \n",
      " 0   Unnamed: 0           543 non-null    int64  \n",
      " 1   city                 543 non-null    object \n",
      " 2   state                543 non-null    object \n",
      " 3   country              543 non-null    object \n",
      " 4   latitude             543 non-null    float64\n",
      " 5   longitude            543 non-null    float64\n",
      " 6   locationName         543 non-null    object \n",
      " 7   isBusinessWarehouse  543 non-null    bool   \n",
      " 8   Year                 543 non-null    int64  \n",
      " 9   Services             543 non-null    object \n",
      "dtypes: bool(1), float64(2), int64(2), object(5)\n",
      "memory usage: 38.8+ KB\n"
     ]
    }
   ],
   "source": [
    "dataset.info()"
   ]
  },
  {
   "cell_type": "code",
   "execution_count": 11,
   "id": "5f4c4040-6bc8-4147-b9a1-6b7d4186c2fb",
   "metadata": {},
   "outputs": [
    {
     "data": {
      "text/plain": [
       "Unnamed: 0             0\n",
       "city                   0\n",
       "state                  0\n",
       "country                0\n",
       "latitude               0\n",
       "longitude              0\n",
       "locationName           0\n",
       "isBusinessWarehouse    0\n",
       "Year                   0\n",
       "Services               0\n",
       "dtype: int64"
      ]
     },
     "execution_count": 11,
     "metadata": {},
     "output_type": "execute_result"
    }
   ],
   "source": [
    "dataset.isnull().sum()"
   ]
  },
  {
   "cell_type": "code",
   "execution_count": 12,
   "id": "9c63394b-3e68-4273-a832-695e3f7c5ff0",
   "metadata": {},
   "outputs": [
    {
     "data": {
      "text/html": [
       "<div>\n",
       "<style scoped>\n",
       "    .dataframe tbody tr th:only-of-type {\n",
       "        vertical-align: middle;\n",
       "    }\n",
       "\n",
       "    .dataframe tbody tr th {\n",
       "        vertical-align: top;\n",
       "    }\n",
       "\n",
       "    .dataframe thead th {\n",
       "        text-align: right;\n",
       "    }\n",
       "</style>\n",
       "<table border=\"1\" class=\"dataframe\">\n",
       "  <thead>\n",
       "    <tr style=\"text-align: right;\">\n",
       "      <th></th>\n",
       "      <th>Unnamed: 0</th>\n",
       "      <th>latitude</th>\n",
       "      <th>longitude</th>\n",
       "      <th>Year</th>\n",
       "    </tr>\n",
       "  </thead>\n",
       "  <tbody>\n",
       "    <tr>\n",
       "      <th>count</th>\n",
       "      <td>543.000000</td>\n",
       "      <td>543.000000</td>\n",
       "      <td>543.000000</td>\n",
       "      <td>543.000000</td>\n",
       "    </tr>\n",
       "    <tr>\n",
       "      <th>mean</th>\n",
       "      <td>354.985267</td>\n",
       "      <td>37.959982</td>\n",
       "      <td>-100.047630</td>\n",
       "      <td>2001.173112</td>\n",
       "    </tr>\n",
       "    <tr>\n",
       "      <th>std</th>\n",
       "      <td>215.652600</td>\n",
       "      <td>5.798699</td>\n",
       "      <td>19.558945</td>\n",
       "      <td>10.460409</td>\n",
       "    </tr>\n",
       "    <tr>\n",
       "      <th>min</th>\n",
       "      <td>0.000000</td>\n",
       "      <td>19.687000</td>\n",
       "      <td>-159.382000</td>\n",
       "      <td>1976.000000</td>\n",
       "    </tr>\n",
       "    <tr>\n",
       "      <th>25%</th>\n",
       "      <td>163.500000</td>\n",
       "      <td>33.909000</td>\n",
       "      <td>-118.145500</td>\n",
       "      <td>1992.000000</td>\n",
       "    </tr>\n",
       "    <tr>\n",
       "      <th>50%</th>\n",
       "      <td>364.000000</td>\n",
       "      <td>38.598000</td>\n",
       "      <td>-96.741000</td>\n",
       "      <td>2001.000000</td>\n",
       "    </tr>\n",
       "    <tr>\n",
       "      <th>75%</th>\n",
       "      <td>552.500000</td>\n",
       "      <td>41.499500</td>\n",
       "      <td>-82.322500</td>\n",
       "      <td>2010.000000</td>\n",
       "    </tr>\n",
       "    <tr>\n",
       "      <th>max</th>\n",
       "      <td>712.000000</td>\n",
       "      <td>64.852000</td>\n",
       "      <td>-70.979000</td>\n",
       "      <td>2020.000000</td>\n",
       "    </tr>\n",
       "  </tbody>\n",
       "</table>\n",
       "</div>"
      ],
      "text/plain": [
       "       Unnamed: 0    latitude   longitude         Year\n",
       "count  543.000000  543.000000  543.000000   543.000000\n",
       "mean   354.985267   37.959982 -100.047630  2001.173112\n",
       "std    215.652600    5.798699   19.558945    10.460409\n",
       "min      0.000000   19.687000 -159.382000  1976.000000\n",
       "25%    163.500000   33.909000 -118.145500  1992.000000\n",
       "50%    364.000000   38.598000  -96.741000  2001.000000\n",
       "75%    552.500000   41.499500  -82.322500  2010.000000\n",
       "max    712.000000   64.852000  -70.979000  2020.000000"
      ]
     },
     "execution_count": 12,
     "metadata": {},
     "output_type": "execute_result"
    }
   ],
   "source": [
    "dataset.describe()"
   ]
  },
  {
   "cell_type": "markdown",
   "id": "2599cb50-d360-4bfb-bca6-15bb2408dfe8",
   "metadata": {},
   "source": [
    "## Step 2: Data field exploration"
   ]
  },
  {
   "cell_type": "markdown",
   "id": "0f119022-5eaf-400e-8dac-83af6d383d3d",
   "metadata": {},
   "source": [
    "### Check for earliest and latest years of Costco establishments recorded in dataset"
   ]
  },
  {
   "cell_type": "code",
   "execution_count": 28,
   "id": "f1060d2b-28c5-49b9-aefb-498dcece3894",
   "metadata": {},
   "outputs": [
    {
     "name": "stdout",
     "output_type": "stream",
     "text": [
      "Costco dataset's earliest year recorded: 1976\n",
      "Costco dataset's latest year recorded: 2020\n"
     ]
    }
   ],
   "source": [
    "min_year = dataset['Year'].min()\n",
    "max_year = dataset['Year'].max()\n",
    "\n",
    "print(f\"Costco dataset's earliest year recorded: {min_year}\")\n",
    "print(f\"Costco dataset's latest year recorded: {max_year}\")"
   ]
  },
  {
   "cell_type": "markdown",
   "id": "413057bd-8c24-4ef3-b8d6-deea01ebc1e9",
   "metadata": {},
   "source": [
    "### Script to remove `Unnamed:0` from the dataset\n",
    "- Currently commented out"
   ]
  },
  {
   "cell_type": "code",
   "execution_count": 13,
   "id": "b998ca90-32d0-4080-8da5-01d878f0d5ee",
   "metadata": {},
   "outputs": [],
   "source": [
    "# dataset = dataset.drop(columns=['Unnamed: 0'])"
   ]
  },
  {
   "cell_type": "markdown",
   "id": "239b2569-335e-458d-b66b-a4791c73a083",
   "metadata": {},
   "source": [
    "### Checking for unique values & frequency in dataset's categorical columns: city, state, and country"
   ]
  },
  {
   "cell_type": "code",
   "execution_count": 15,
   "id": "f752b456-2c05-40ad-8c50-9100ef74c124",
   "metadata": {},
   "outputs": [
    {
     "data": {
      "text/plain": [
       "city\n",
       "PHOENIX                6\n",
       "SAN DIEGO              5\n",
       "SAN JOSE               4\n",
       "SOUTH SAN FRANCISCO    3\n",
       "ATLANTA                3\n",
       "                      ..\n",
       "AUBURN HILLS           1\n",
       "SHELBY TOWNSHIP        1\n",
       "INDEPENDENCE           1\n",
       "BLOOMINGDALE           1\n",
       "EAST LYME              1\n",
       "Name: count, Length: 476, dtype: int64"
      ]
     },
     "execution_count": 15,
     "metadata": {},
     "output_type": "execute_result"
    }
   ],
   "source": [
    "dataset['city'].value_counts()"
   ]
  },
  {
   "cell_type": "code",
   "execution_count": 17,
   "id": "b3867cf8-bc1d-4060-96be-4574df1f6517",
   "metadata": {},
   "outputs": [],
   "source": [
    "dataset['state'].value_counts()"
   ]
  },
  {
   "cell_type": "code",
   "execution_count": 18,
   "id": "515e6556-1e49-4694-96c5-d45cca25ae47",
   "metadata": {},
   "outputs": [
    {
     "data": {
      "text/plain": [
       "country\n",
       "US    543\n",
       "Name: count, dtype: int64"
      ]
     },
     "execution_count": 18,
     "metadata": {},
     "output_type": "execute_result"
    }
   ],
   "source": [
    "dataset['country'].value_counts()"
   ]
  },
  {
   "cell_type": "markdown",
   "id": "ca67642d-d852-4be8-ab45-be94a11e34db",
   "metadata": {},
   "source": [
    "### Exploring how spread out the Costco warehouses are in the USA (NOT differentiating between Business Warehouse and Non-Bus Warehouse)"
   ]
  },
  {
   "cell_type": "code",
   "execution_count": 20,
   "id": "d1ceb964-d278-4316-a85a-5607db0fb9fc",
   "metadata": {},
   "outputs": [
    {
     "data": {
      "text/html": [
       "<div>\n",
       "<style scoped>\n",
       "    .dataframe tbody tr th:only-of-type {\n",
       "        vertical-align: middle;\n",
       "    }\n",
       "\n",
       "    .dataframe tbody tr th {\n",
       "        vertical-align: top;\n",
       "    }\n",
       "\n",
       "    .dataframe thead th {\n",
       "        text-align: right;\n",
       "    }\n",
       "</style>\n",
       "<table border=\"1\" class=\"dataframe\">\n",
       "  <thead>\n",
       "    <tr style=\"text-align: right;\">\n",
       "      <th></th>\n",
       "      <th>latitude</th>\n",
       "      <th>longitude</th>\n",
       "    </tr>\n",
       "  </thead>\n",
       "  <tbody>\n",
       "    <tr>\n",
       "      <th>count</th>\n",
       "      <td>543.000000</td>\n",
       "      <td>543.000000</td>\n",
       "    </tr>\n",
       "    <tr>\n",
       "      <th>mean</th>\n",
       "      <td>37.959982</td>\n",
       "      <td>-100.047630</td>\n",
       "    </tr>\n",
       "    <tr>\n",
       "      <th>std</th>\n",
       "      <td>5.798699</td>\n",
       "      <td>19.558945</td>\n",
       "    </tr>\n",
       "    <tr>\n",
       "      <th>min</th>\n",
       "      <td>19.687000</td>\n",
       "      <td>-159.382000</td>\n",
       "    </tr>\n",
       "    <tr>\n",
       "      <th>25%</th>\n",
       "      <td>33.909000</td>\n",
       "      <td>-118.145500</td>\n",
       "    </tr>\n",
       "    <tr>\n",
       "      <th>50%</th>\n",
       "      <td>38.598000</td>\n",
       "      <td>-96.741000</td>\n",
       "    </tr>\n",
       "    <tr>\n",
       "      <th>75%</th>\n",
       "      <td>41.499500</td>\n",
       "      <td>-82.322500</td>\n",
       "    </tr>\n",
       "    <tr>\n",
       "      <th>max</th>\n",
       "      <td>64.852000</td>\n",
       "      <td>-70.979000</td>\n",
       "    </tr>\n",
       "  </tbody>\n",
       "</table>\n",
       "</div>"
      ],
      "text/plain": [
       "         latitude   longitude\n",
       "count  543.000000  543.000000\n",
       "mean    37.959982 -100.047630\n",
       "std      5.798699   19.558945\n",
       "min     19.687000 -159.382000\n",
       "25%     33.909000 -118.145500\n",
       "50%     38.598000  -96.741000\n",
       "75%     41.499500  -82.322500\n",
       "max     64.852000  -70.979000"
      ]
     },
     "execution_count": 20,
     "metadata": {},
     "output_type": "execute_result"
    }
   ],
   "source": [
    "# Checking for consistency in latitude and longitude data\n",
    "\n",
    "dataset[['latitude', 'longitude']].describe()"
   ]
  },
  {
   "cell_type": "markdown",
   "id": "2fca36be-8948-40b7-89e3-aee520fd5558",
   "metadata": {},
   "source": [
    "### Checking for multiple Costco warehouses per location (NOT differentiating between Business Warehouse and Non-Bus Warehouse)"
   ]
  },
  {
   "cell_type": "code",
   "execution_count": 22,
   "id": "e0f66a39-8344-4889-8b3a-79ec8ab6e2b5",
   "metadata": {},
   "outputs": [
    {
     "data": {
      "text/plain": [
       "locationName\n",
       "Cypress                    2\n",
       "Columbia                   2\n",
       "Seattle                    1\n",
       "Hayward Business Center    1\n",
       "Phoenix Business Center    1\n",
       "                          ..\n",
       "Oak Brook                  1\n",
       "Schaumburg                 1\n",
       "Brentwood                  1\n",
       "Deerfield                  1\n",
       "E Lyme                     1\n",
       "Name: count, Length: 541, dtype: int64"
      ]
     },
     "execution_count": 22,
     "metadata": {},
     "output_type": "execute_result"
    }
   ],
   "source": [
    "dataset['locationName'].value_counts()"
   ]
  },
  {
   "cell_type": "markdown",
   "id": "ccfe1104-7edc-48aa-b1fb-749c30f34a24",
   "metadata": {},
   "source": [
    "### To ensure `isBusinessWarehouse` is boolean"
   ]
  },
  {
   "cell_type": "code",
   "execution_count": 24,
   "id": "64d717a7-6599-43be-bd6d-b45097be89ed",
   "metadata": {},
   "outputs": [
    {
     "data": {
      "text/plain": [
       "isBusinessWarehouse\n",
       "False    525\n",
       "True      18\n",
       "Name: count, dtype: int64"
      ]
     },
     "execution_count": 24,
     "metadata": {},
     "output_type": "execute_result"
    }
   ],
   "source": [
    "dataset['isBusinessWarehouse'].value_counts()"
   ]
  },
  {
   "cell_type": "markdown",
   "id": "98de1d32-40b8-484d-b154-a3e5ab00cc41",
   "metadata": {},
   "source": [
    "### Find frequency of services in Costco, order by DESC order common services in Costco (dataset)\n",
    "**Next steps:** There are a lot of overlaps in these Service categories, but they all do seem to differ by 1+ servives. "
   ]
  },
  {
   "cell_type": "code",
   "execution_count": 32,
   "id": "271045f4-9fb3-4d6f-aaba-1efc6892dd62",
   "metadata": {},
   "outputs": [
    {
     "data": {
      "text/plain": [
       "Services\n",
       "Gas, Tires, Food, Hearing, Pharmacy, Optical, Photo Center, Ship to Warehouse, Warehouse Pickup    282\n",
       "Gas, Tires, Food, Hearing, Pharmacy, Optical, Ship to Warehouse, Warehouse Pickup                  189\n",
       "Tires, Food, Hearing, Pharmacy, Optical, Photo Center, Ship to Warehouse, Warehouse Pickup          34\n",
       "Tires, Food, Hearing, Pharmacy, Optical, Ship to Warehouse, Warehouse Pickup                        10\n",
       "Gas, Business, Ship to Warehouse                                                                     6\n",
       "Business, Ship to Warehouse                                                                          5\n",
       "Food, Business, Ship to Warehouse                                                                    4\n",
       "Food, Hearing, Pharmacy, Optical, Ship to Warehouse, Warehouse Pickup                                3\n",
       "Gas, Tires, Food, Pharmacy, Optical, Photo Center, Ship to Warehouse, Warehouse Pickup               2\n",
       "Gas, Food, Business, Ship to Warehouse                                                               2\n",
       "Tires, Food, Pharmacy, Optical, Photo Center, Ship to Warehouse, Warehouse Pickup                    1\n",
       "Gas, Tires, Food, Pharmacy, Optical, Ship to Warehouse, Warehouse Pickup                             1\n",
       "Tires, Food, Pharmacy, Optical, Ship to Warehouse, Warehouse Pickup                                  1\n",
       "Gas, Tires, Hearing, Pharmacy, Optical, Ship to Warehouse, Warehouse Pickup                          1\n",
       "Business, Ship to Warehouse, Warehouse Pickup                                                        1\n",
       "Gas, Food, Hearing, Pharmacy, Optical, Ship to Warehouse, Warehouse Pickup                           1\n",
       "Name: count, dtype: int64"
      ]
     },
     "execution_count": 32,
     "metadata": {},
     "output_type": "execute_result"
    }
   ],
   "source": [
    "dataset['Services'].value_counts()"
   ]
  },
  {
   "cell_type": "markdown",
   "id": "2fd5ab77-c1d4-41f8-bb99-653218200bd7",
   "metadata": {},
   "source": [
    "## Step 3: Data Preparation & Visualization"
   ]
  },
  {
   "cell_type": "code",
   "execution_count": 34,
   "id": "102f9a49-ddb2-47ce-b9f2-ef7066f6d733",
   "metadata": {},
   "outputs": [
    {
     "data": {
      "text/plain": [
       "0"
      ]
     },
     "execution_count": 34,
     "metadata": {},
     "output_type": "execute_result"
    }
   ],
   "source": [
    "# Check for duplicates\n",
    "dataset.duplicated().sum() "
   ]
  },
  {
   "cell_type": "markdown",
   "id": "c2b6db20-58ba-4042-988a-72492a4e0693",
   "metadata": {},
   "source": [
    "Since there are no duplicates in this Costco dataframe, we do not have to worry about filling in w/ NA's, mean, etc.  \n",
    "(Ask Laura to confirm if there were no duplicates in JSON file, too)"
   ]
  },
  {
   "cell_type": "code",
   "execution_count": 37,
   "id": "9ec0de1b-06c2-4440-9870-c9bd5dc16dbf",
   "metadata": {},
   "outputs": [
    {
     "name": "stderr",
     "output_type": "stream",
     "text": [
      "/opt/anaconda3/lib/python3.11/site-packages/seaborn/_oldcore.py:1119: FutureWarning: use_inf_as_na option is deprecated and will be removed in a future version. Convert inf values to NaN before operating instead.\n",
      "  with pd.option_context('mode.use_inf_as_na', True):\n"
     ]
    },
    {
     "data": {
      "image/png": "[encoded data removed]",
      "text/plain": [
       "<Figure size 640x480 with 1 Axes>"
      ]
     },
     "metadata": {},
     "output_type": "display_data"
    }
   ],
   "source": [
    "import seaborn as sns\n",
    "import matplotlib.pyplot as plt\n",
    "\n",
    "sns.histplot(dataset['Year'])\n",
    "plt.title('Distribution of Costco warehoues by Year')\n",
    "plt.show()"
   ]
  },
  {
   "cell_type": "code",
   "execution_count": 40,
   "id": "6cc62d8b-145e-47e4-a72b-41a629a51310",
   "metadata": {},
   "outputs": [
    {
     "data": {
      "image/png": "[encoded data removed]",
      "text/plain": [
       "<Figure size 640x480 with 1 Axes>"
      ]
     },
     "metadata": {},
     "output_type": "display_data"
    }
   ],
   "source": [
    "sns.scatterplot(x = 'longitude', y = 'latitude', data = dataset)\n",
    "plt.title('Geographical Distribution of Costco Warehouses')\n",
    "plt.show()"
   ]
  },
  {
   "cell_type": "code",
   "execution_count": 43,
   "id": "71ee2550-fee4-41f6-a2cd-8f958209e797",
   "metadata": {},
   "outputs": [
    {
     "data": {
      "image/png": "[encoded data removed]",
      "text/plain": [
       "<Figure size 640x480 with 1 Axes>"
      ]
     },
     "metadata": {},
     "output_type": "display_data"
    }
   ],
   "source": [
    "sns.countplot(x = 'state', data = dataset)\n",
    "plt.title('State Distribution of Costco Warehouses')\n",
    "plt.xticks(rotation = 90)\n",
    "plt.show()"
   ]
  },
  {
   "cell_type": "markdown",
   "id": "2b5066b2-902f-4e83-adc3-d5745824d4f4",
   "metadata": {},
   "source": [
    "### Exploration of year(s) where Costco Business Warehouses started establishing more frequently"
   ]
  },
  {
   "cell_type": "code",
   "execution_count": 52,
   "id": "9a5ae2df-5fc2-4e7e-a731-b6e2c2c6e0db",
   "metadata": {},
   "outputs": [
    {
     "data": {
      "image/png": "[encoded data removed]",
      "text/plain": [
       "<Figure size 640x480 with 1 Axes>"
      ]
     },
     "metadata": {},
     "output_type": "display_data"
    }
   ],
   "source": [
    "sns.boxplot(x = 'isBusinessWarehouse', y = 'Year', data = dataset)\n",
    "plt.title('Year Distribution by Costco Business Warehouse Status')\n",
    "plt.show()"
   ]
  },
  {
   "cell_type": "code",
   "execution_count": 54,
   "id": "ab49140f-12e4-4fe7-90f6-39332495f9dc",
   "metadata": {},
   "outputs": [
    {
     "name": "stderr",
     "output_type": "stream",
     "text": [
      "/opt/anaconda3/lib/python3.11/site-packages/seaborn/_oldcore.py:1119: FutureWarning: use_inf_as_na option is deprecated and will be removed in a future version. Convert inf values to NaN before operating instead.\n",
      "  with pd.option_context('mode.use_inf_as_na', True):\n"
     ]
    },
    {
     "data": {
      "image/png": "[encoded data removed]",
      "text/plain": [
       "<Figure size 640x480 with 1 Axes>"
      ]
     },
     "metadata": {},
     "output_type": "display_data"
    }
   ],
   "source": [
    "# create column 'Service Count' to store # of individual services listed in `Services` for each Costco recorded \n",
    "\n",
    "dataset['Service Count'] = dataset['Services'].apply(lambda x: len(x.split(',')))\n",
    "sns.histplot(dataset['Service Count'])\n",
    "plt.title('Number of Services per Costco Warehouse (COMBINING Business & Regular Costcos)')\n",
    "plt.show()"
   ]
  }
 ],
 "metadata": {
  "kernelspec": {
   "display_name": "Python 3 (ipykernel)",
   "language": "python",
   "name": "python3"
  },
  "language_info": {
   "codemirror_mode": {
    "name": "ipython",
    "version": 3
   },
   "file_extension": ".py",
   "mimetype": "text/x-python",
   "name": "python",
   "nbconvert_exporter": "python",
   "pygments_lexer": "ipython3",
   "version": "3.11.7"
  }
 },
 "nbformat": 4,
 "nbformat_minor": 5
}
